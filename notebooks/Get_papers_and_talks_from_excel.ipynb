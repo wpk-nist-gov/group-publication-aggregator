{
 "cells": [
  {
   "cell_type": "code",
   "execution_count": 1,
   "id": "92c134e6",
   "metadata": {},
   "outputs": [],
   "source": [
    "import pandas as pd"
   ]
  },
  {
   "cell_type": "code",
   "execution_count": 2,
   "id": "84f4efde",
   "metadata": {},
   "outputs": [],
   "source": [
    "def first_initials_to_final(\n",
    "    string, split_char=\",\", inner_split=\" \", join_char=\", \", inner_join=\" \"\n",
    "):\n",
    "    out = []\n",
    "\n",
    "    for s in string.split(split_char):\n",
    "        meta = s.split(inner_split)\n",
    "\n",
    "        last_name = meta[-1].strip()\n",
    "        first_name = \"\".join(meta[:-1])\n",
    "\n",
    "        out.append(f\"{last_name}{inner_join}{first_name}\")\n",
    "\n",
    "    return join_char.join(out)\n",
    "\n",
    "\n",
    "def semicolon_to_final(\n",
    "    string, split_char=\";\", inner_split=\",\", join_char=\", \", inner_join=\" \"\n",
    "):\n",
    "    out = []\n",
    "\n",
    "    for s in string.split(split_char):\n",
    "        meta = s.split(inner_split)\n",
    "\n",
    "        last_name = meta[0].strip()\n",
    "\n",
    "        first_name = (\"\".join(meta[1:])).replace(\" \", \"\")\n",
    "\n",
    "        out.append(f\"{last_name}{inner_join}{first_name}\")\n",
    "\n",
    "    return join_char.join(out)\n",
    "\n",
    "\n",
    "def apply_by_row(rows, semicolon=None):\n",
    "    if semicolon is None:\n",
    "        semicolon = [None] * len(rows)\n",
    "\n",
    "    out = []\n",
    "    for row, _semi in zip(rows, semicolon):\n",
    "        semi = \";\" in row if _semi is None else _semi\n",
    "\n",
    "        if semi:\n",
    "            out.append(semicolon_to_final(row))\n",
    "        else:\n",
    "            out.append(first_initials_to_final(row))\n",
    "\n",
    "    return out"
   ]
  },
  {
   "cell_type": "code",
   "execution_count": 3,
   "id": "dafa5706-8be2-4803-835e-762328bdb1a1",
   "metadata": {},
   "outputs": [],
   "source": [
    "FY = 2025\n",
    "Quarter = 1\n",
    "\n",
    "\n",
    "def query_fy_quarter(df):\n",
    "    return df[(df[\"Fiscal Year\"] == FY) & (df[\"Quarter\"] == Quarter)]\n",
    "\n",
    "\n",
    "path = \"./Publications_and_presentations_group04.xlsx\"\n",
    "\n",
    "df_papers = (\n",
    "    pd.read_excel(path, \"papers\").dropna(how=\"all\").pipe(query_fy_quarter)\n",
    "    #    .dtypes({'Fiscal Year': 'datetime'})\n",
    ")\n",
    "\n",
    "df_talks = (\n",
    "    pd.read_excel(path, \"talks\")\n",
    "    .dropna(how=\"all\")\n",
    "    .pipe(query_fy_quarter)\n",
    "    .astype({\"Date\": \"datetime64[ns]\"})\n",
    ")"
   ]
  },
  {
   "cell_type": "markdown",
   "id": "25f0b931",
   "metadata": {},
   "source": [
    "# papers"
   ]
  },
  {
   "cell_type": "code",
   "execution_count": 4,
   "id": "ef549ed8",
   "metadata": {},
   "outputs": [],
   "source": [
    "def paper_format(df):\n",
    "    data = []\n",
    "    for _, row in df.iterrows():\n",
    "        out = \"{authors}, {title}, {ref}\".format(\n",
    "            authors=row[\"Authors\"], title=row[\"Title\"], ref=row[\"Reference\"]\n",
    "        )\n",
    "\n",
    "        if not row.isna()[\"Doi\"]:\n",
    "            out += \", {}\".format(row[\"Doi\"])\n",
    "        data.append(out)\n",
    "    return data"
   ]
  },
  {
   "cell_type": "code",
   "execution_count": 5,
   "id": "77636653",
   "metadata": {},
   "outputs": [
    {
     "data": {
      "text/html": [
       "<div>\n",
       "<style scoped>\n",
       "    .dataframe tbody tr th:only-of-type {\n",
       "        vertical-align: middle;\n",
       "    }\n",
       "\n",
       "    .dataframe tbody tr th {\n",
       "        vertical-align: top;\n",
       "    }\n",
       "\n",
       "    .dataframe thead th {\n",
       "        text-align: right;\n",
       "    }\n",
       "</style>\n",
       "<table border=\"1\" class=\"dataframe\">\n",
       "  <thead>\n",
       "    <tr style=\"text-align: right;\">\n",
       "      <th></th>\n",
       "      <th>Fiscal Year</th>\n",
       "      <th>Quarter</th>\n",
       "      <th>Title</th>\n",
       "      <th>Authors</th>\n",
       "      <th>Reference</th>\n",
       "      <th>Doi</th>\n",
       "      <th>Notes</th>\n",
       "    </tr>\n",
       "  </thead>\n",
       "  <tbody>\n",
       "    <tr>\n",
       "      <th>41</th>\n",
       "      <td>2025.0</td>\n",
       "      <td>1.0</td>\n",
       "      <td>Progress in Development of Characterization Ca...</td>\n",
       "      <td>M. Carter, H. G. T. Nguyen, A. J. Allen, F. Yi...</td>\n",
       "      <td>Journal of CO2 Utilization 2024, 89, 102975</td>\n",
       "      <td>https://doi.org/10.1016/j.jcou.2024.102975</td>\n",
       "      <td>NaN</td>\n",
       "    </tr>\n",
       "    <tr>\n",
       "      <th>42</th>\n",
       "      <td>2025.0</td>\n",
       "      <td>1.0</td>\n",
       "      <td>Per- and Polyfluoroalkyl Substances – Non-Targ...</td>\n",
       "      <td>Place BJ, Reiner JL, Ragland JM, Rodowa AE, Bu...</td>\n",
       "      <td>NIST Internal Report</td>\n",
       "      <td>https://doi.org/10.6028/NIST.IR.8544</td>\n",
       "      <td>NaN</td>\n",
       "    </tr>\n",
       "    <tr>\n",
       "      <th>43</th>\n",
       "      <td>2025.0</td>\n",
       "      <td>1.0</td>\n",
       "      <td>The Avogadro constant is not the defining cons...</td>\n",
       "      <td>R. N. Kacker, K. K. Irikura</td>\n",
       "      <td>Metrologia, 62, 013003 (2025)</td>\n",
       "      <td>https://doi.org/10.1088/1681-7575/ada7fc</td>\n",
       "      <td>NaN</td>\n",
       "    </tr>\n",
       "  </tbody>\n",
       "</table>\n",
       "</div>"
      ],
      "text/plain": [
       "    Fiscal Year  Quarter                                              Title  \\\n",
       "41       2025.0      1.0  Progress in Development of Characterization Ca...   \n",
       "42       2025.0      1.0  Per- and Polyfluoroalkyl Substances – Non-Targ...   \n",
       "43       2025.0      1.0  The Avogadro constant is not the defining cons...   \n",
       "\n",
       "                                              Authors  \\\n",
       "41  M. Carter, H. G. T. Nguyen, A. J. Allen, F. Yi...   \n",
       "42  Place BJ, Reiner JL, Ragland JM, Rodowa AE, Bu...   \n",
       "43                        R. N. Kacker, K. K. Irikura   \n",
       "\n",
       "                                      Reference  \\\n",
       "41  Journal of CO2 Utilization 2024, 89, 102975   \n",
       "42                         NIST Internal Report   \n",
       "43                Metrologia, 62, 013003 (2025)   \n",
       "\n",
       "                                           Doi Notes  \n",
       "41  https://doi.org/10.1016/j.jcou.2024.102975   NaN  \n",
       "42        https://doi.org/10.6028/NIST.IR.8544   NaN  \n",
       "43    https://doi.org/10.1088/1681-7575/ada7fc   NaN  "
      ]
     },
     "execution_count": 5,
     "metadata": {},
     "output_type": "execute_result"
    }
   ],
   "source": [
    "df_papers"
   ]
  },
  {
   "cell_type": "code",
   "execution_count": 6,
   "id": "1d67a982",
   "metadata": {},
   "outputs": [],
   "source": [
    "# Fix semicolon format for any rows\n",
    "t = df_papers.assign(Authors=lambda x: apply_by_row(x[\"Authors\"], None))"
   ]
  },
  {
   "cell_type": "code",
   "execution_count": 7,
   "id": "ab31d02c",
   "metadata": {},
   "outputs": [
    {
     "name": "stdout",
     "output_type": "stream",
     "text": [
      "* Carter M., Nguyen H.G.T., Allen A.J., Yi F., Yang W-CD., Baumann A.E., McGivern W.S., Manion J.A., Kuzmenko I., Sinas Z., Wentz C.M., Wenny M., Siderius D.W., Zee R.D.van, Stafford C.M., Brown C.M., Progress in Development of Characterization Capabilities to Evaluate Candidate Materials for Direct Air Capture Applications, Journal of CO2 Utilization 2024, 89, 102975, https://doi.org/10.1016/j.jcou.2024.102975\n",
      "* BJ Place, JL Reiner, JM Ragland, AE Rodowa, CQ Burdette, AA Cuthbertson, CA Rimmer, JR Kucklick, N Mahynski, Per- and Polyfluoroalkyl Substances – Non-Targeted Analysis Interlaboratory Study Final Report, NIST Internal Report, https://doi.org/10.6028/NIST.IR.8544\n",
      "* Kacker R.N., Irikura K.K., The Avogadro constant is not the defining constant of the mole, Metrologia, 62, 013003 (2025), https://doi.org/10.1088/1681-7575/ada7fc\n"
     ]
    }
   ],
   "source": [
    "for x in paper_format(t):\n",
    "    print(\"*\", x)"
   ]
  },
  {
   "cell_type": "markdown",
   "id": "3ecc9066",
   "metadata": {},
   "source": [
    "# Talks"
   ]
  },
  {
   "cell_type": "code",
   "execution_count": 8,
   "id": "a1385b6f",
   "metadata": {},
   "outputs": [],
   "source": [
    "def talk_format(df):\n",
    "    df = df.assign(\n",
    "        month_year=lambda x: x[\"Date\"].dt.month_name()\n",
    "        + \" \"\n",
    "        + x[\"Date\"].dt.year.astype(str)\n",
    "    )\n",
    "\n",
    "    data = []\n",
    "    for _, row in df.iterrows():\n",
    "        out = \"{authors}, {title}, {ref}, {loc}, {date} ({Type})\".format(\n",
    "            authors=row[\"Authors\"],\n",
    "            title=row[\"Title\"],\n",
    "            ref=row[\"Conference\"],\n",
    "            loc=row[\"Location\"],\n",
    "            date=row[\"month_year\"],\n",
    "            Type=row[\"Type\"],\n",
    "        )\n",
    "\n",
    "        data.append(out)\n",
    "    return data"
   ]
  },
  {
   "cell_type": "code",
   "execution_count": 9,
   "id": "f9b7c331",
   "metadata": {},
   "outputs": [
    {
     "name": "stdout",
     "output_type": "stream",
     "text": [
      "* Chalk S., Evans J.D., Iacomi P., Kaskel S., Ohrstrom L., Siderius D.W., Silvestre J., Speybroeck V.Van, Tanaka H., IUPAC Adsorption Information Format: A universal standard archive file for adsorption data, AIChE Annual Meeting, San Diego, CA, October 2024 (Talk)\n",
      "* Siderius D.W., Hatch H.W., Shen andV.K., Flat-histogram Monte Carlo Simulation of Binary Adsorption in Crystalline Porous Adsorbents, AIChE Annual Meeting, San Diego, CA, October 2024 (Talk)\n"
     ]
    }
   ],
   "source": [
    "for x in talk_format(\n",
    "    df_talks.assign(Authors=lambda x: apply_by_row(x[\"Authors\"], None))\n",
    "):\n",
    "    print(\"*\", x)"
   ]
  },
  {
   "cell_type": "code",
   "execution_count": 10,
   "id": "33ad4d24",
   "metadata": {},
   "outputs": [
    {
     "data": {
      "text/plain": [
       "58    October 2024\n",
       "59    October 2024\n",
       "Name: Date, dtype: object"
      ]
     },
     "execution_count": 10,
     "metadata": {},
     "output_type": "execute_result"
    }
   ],
   "source": [
    "df_talks.Date.dt.month_name() + \" \" + df_talks.Date.dt.year.astype(str)"
   ]
  }
 ],
 "metadata": {
  "kernelspec": {
   "display_name": "Python [venv: group-publication-aggregator-dev]",
   "language": "python",
   "name": "group-publication-aggregator-dev"
  },
  "language_info": {
   "codemirror_mode": {
    "name": "ipython",
    "version": 3
   },
   "file_extension": ".py",
   "mimetype": "text/x-python",
   "name": "python",
   "nbconvert_exporter": "python",
   "pygments_lexer": "ipython3",
   "version": "3.12.9"
  },
  "toc": {
   "base_numbering": 1,
   "nav_menu": {},
   "number_sections": true,
   "sideBar": true,
   "skip_h1_title": false,
   "title_cell": "Table of Contents",
   "title_sidebar": "Contents",
   "toc_cell": false,
   "toc_position": {},
   "toc_section_display": true,
   "toc_window_display": false
  }
 },
 "nbformat": 4,
 "nbformat_minor": 5
}
